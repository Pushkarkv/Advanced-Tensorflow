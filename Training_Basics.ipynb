{
  "nbformat": 4,
  "nbformat_minor": 0,
  "metadata": {
    "colab": {
      "name": "Training_Basics.ipynb",
      "provenance": [],
      "collapsed_sections": [],
      "authorship_tag": "ABX9TyNIUcEadwIVTwTb6YxXcuML",
      "include_colab_link": true
    },
    "kernelspec": {
      "name": "python3",
      "display_name": "Python 3"
    },
    "language_info": {
      "name": "python"
    }
  },
  "cells": [
    {
      "cell_type": "markdown",
      "metadata": {
        "id": "view-in-github",
        "colab_type": "text"
      },
      "source": [
        "<a href=\"https://colab.research.google.com/github/Pushkarkv/Advanced-Tensorflow/blob/main/Training_Basics.ipynb\" target=\"_parent\"><img src=\"https://colab.research.google.com/assets/colab-badge.svg\" alt=\"Open In Colab\"/></a>"
      ]
    },
    {
      "cell_type": "code",
      "metadata": {
        "id": "ePEyCO62Q2ru"
      },
      "source": [
        "from __future__ import absolute_import, division, print_function, unicode_literals\n",
        "\n",
        "try:\n",
        "  %tensorflow_version 2.x\n",
        "except Exception:\n",
        "  pass\n",
        "\n",
        "import tensorflow as tf\n",
        "import numpy as np\n",
        "import matplotlib.pyplot as plt"
      ],
      "execution_count": 1,
      "outputs": []
    },
    {
      "cell_type": "code",
      "metadata": {
        "id": "NpLxn-J0XqGr"
      },
      "source": [
        "class Model(object):\n",
        "  def __init__(self):\n",
        "    self.w= tf.Variable(2.0)\n",
        "    self.b= tf.Variable(1.0)\n",
        "  def __call__(self, x):\n",
        "    return self.w*x+self.b\n",
        "model=Model()"
      ],
      "execution_count": 2,
      "outputs": []
    },
    {
      "cell_type": "code",
      "metadata": {
        "id": "OhOx87NKYWw4"
      },
      "source": [
        "def loss(predicted_y, target_y):\n",
        "  return tf.reduce_mean(tf.square(predicted_y- target_y))"
      ],
      "execution_count": 3,
      "outputs": []
    },
    {
      "cell_type": "code",
      "metadata": {
        "id": "090s6mATYrAf"
      },
      "source": [
        "TRUE_w= 3.0\n",
        "TRUE_b= 2.0\n",
        "NUM_EXAMPLES= 1000\n",
        "\n",
        "xs= tf.random.normal(shape=[NUM_EXAMPLES])\n",
        "ys= (TRUE_w* xs)+ TRUE_b"
      ],
      "execution_count": 4,
      "outputs": []
    },
    {
      "cell_type": "code",
      "metadata": {
        "id": "YEm1621JZI4M"
      },
      "source": [
        "def plot_data(inputs, outputs, predicted_outputs):\n",
        "  real= plt.scatter(inputs, outputs, c=\"b\")\n",
        "  predicted= plt.scatter(inputs, predicted_outputs, c='r')\n",
        "  plt.legend((real, predicted),('Real Data', 'Predicted Data'))\n",
        "  plt.show()"
      ],
      "execution_count": 5,
      "outputs": []
    },
    {
      "cell_type": "code",
      "metadata": {
        "colab": {
          "base_uri": "https://localhost:8080/",
          "height": 283
        },
        "id": "6qtbTEGTZzmt",
        "outputId": "57ba9eca-ecb9-4578-ea53-cc1c27a9b736"
      },
      "source": [
        "plot_data(xs, ys, model(xs))\n",
        "print('Current loss: %1.6f' % loss(model(xs), ys).numpy())"
      ],
      "execution_count": 6,
      "outputs": [
        {
          "output_type": "display_data",
          "data": {
            "image/png": "[encoded data removed]",
            "text/plain": [
              "<Figure size 432x288 with 1 Axes>"
            ]
          },
          "metadata": {
            "tags": [],
            "needs_background": "light"
          }
        },
        {
          "output_type": "stream",
          "text": [
            "Current loss: 2.158386\n"
          ],
          "name": "stdout"
        }
      ]
    },
    {
      "cell_type": "code",
      "metadata": {
        "id": "g0z7hqZwaPuq"
      },
      "source": [
        "def train(model, inputs, outputs, learning_rate):\n",
        "  with tf.GradientTape() as t:\n",
        "    current_loss= loss(model(inputs), outputs)\n",
        "  dw, db= t.gradient(current_loss, [model.w, model.b])\n",
        "  model.w.assign_sub(learning_rate* dw)\n",
        "  model.b.assign_sub(learning_rate* db)\n",
        "  return current_loss"
      ],
      "execution_count": 7,
      "outputs": []
    },
    {
      "cell_type": "code",
      "metadata": {
        "colab": {
          "base_uri": "https://localhost:8080/"
        },
        "id": "CdoBJDzYbcxG",
        "outputId": "4862232d-1ef4-4a39-a628-62beb6dc6ada"
      },
      "source": [
        "model= Model()\n",
        "\n",
        "list_w, list_b= [],[]\n",
        "epochs=range(15)\n",
        "losses=[]\n",
        "for epoch in epochs:\n",
        "  list_w.append(model.w.numpy())\n",
        "  list_b.append(model.b.numpy())\n",
        "  current_loss= train(model, xs, ys, learning_rate=0.1)\n",
        "  losses.append(current_loss)\n",
        "  print('Epoch %2d: w=%1.2f b=%1.2f, loss=%2.5f' %(epoch, list_w[-1], list_b[-1], current_loss))"
      ],
      "execution_count": 9,
      "outputs": [
        {
          "output_type": "stream",
          "text": [
            "Epoch  0: w=2.00 b=1.00, loss=2.15839\n",
            "Epoch  1: w=2.22 b=1.21, loss=1.32653\n",
            "Epoch  2: w=2.40 b=1.37, loss=0.81552\n",
            "Epoch  3: w=2.53 b=1.50, loss=0.50153\n",
            "Epoch  4: w=2.64 b=1.61, loss=0.30853\n",
            "Epoch  5: w=2.72 b=1.69, loss=0.18987\n",
            "Epoch  6: w=2.78 b=1.75, loss=0.11689\n",
            "Epoch  7: w=2.83 b=1.81, loss=0.07198\n",
            "Epoch  8: w=2.87 b=1.85, loss=0.04435\n",
            "Epoch  9: w=2.90 b=1.88, loss=0.02733\n",
            "Epoch 10: w=2.92 b=1.90, loss=0.01685\n",
            "Epoch 11: w=2.94 b=1.92, loss=0.01040\n",
            "Epoch 12: w=2.95 b=1.94, loss=0.00642\n",
            "Epoch 13: w=2.96 b=1.95, loss=0.00396\n",
            "Epoch 14: w=2.97 b=1.96, loss=0.00245\n"
          ],
          "name": "stdout"
        }
      ]
    },
    {
      "cell_type": "code",
      "metadata": {
        "colab": {
          "base_uri": "https://localhost:8080/",
          "height": 265
        },
        "id": "mPhpuZEjcu-N",
        "outputId": "fd9a6a10-3ab8-461d-92b6-2c549d3f9707"
      },
      "source": [
        "plt.plot(epochs, list_w, 'r',\n",
        "         epochs, list_b, 'b')\n",
        "plt.plot([TRUE_w]* len(epochs), 'r--',\n",
        "         [TRUE_b]* len(epochs), 'b--')\n",
        "plt.legend(['w', 'b', 'True w', 'True b'])\n",
        "plt.show()"
      ],
      "execution_count": 10,
      "outputs": [
        {
          "output_type": "display_data",
          "data": {
            "image/png": "[encoded data removed]",
            "text/plain": [
              "<Figure size 432x288 with 1 Axes>"
            ]
          },
          "metadata": {
            "tags": [],
            "needs_background": "light"
          }
        }
      ]
    },
    {
      "cell_type": "code",
      "metadata": {
        "colab": {
          "base_uri": "https://localhost:8080/",
          "height": 265
        },
        "id": "DpAdMEx4dglb",
        "outputId": "a7034bfd-ee15-4c4b-c920-c70fa60e9383"
      },
      "source": [
        "test_inputs= tf.random.normal(shape=[NUM_EXAMPLES])\n",
        "test_outputs= test_inputs* TRUE_w+ TRUE_b\n",
        "\n",
        "predicted_test_outputs= model(test_inputs)\n",
        "plot_data(test_inputs, test_outputs, predicted_test_outputs)"
      ],
      "execution_count": 11,
      "outputs": [
        {
          "output_type": "display_data",
          "data": {
            "image/png": "[encoded data removed]",
            "text/plain": [
              "<Figure size 432x288 with 1 Axes>"
            ]
          },
          "metadata": {
            "tags": [],
            "needs_background": "light"
          }
        }
      ]
    },
    {
      "cell_type": "code",
      "metadata": {
        "id": "LY1lEK6_eKVE"
      },
      "source": [
        "def plot_loss_for_weights(weights_list, losses):\n",
        "  for idx, weights in enumerate(weights_list):\n",
        "    plt.subplot(120+ idx+ 1)\n",
        "    plt.plot(weights['values'], losses, 'r')\n",
        "    plt.plot(weights['values'], losses, 'bo')\n",
        "    plt.xlabel(weights['name'])\n",
        "    plt.ylabel('Loss')"
      ],
      "execution_count": 12,
      "outputs": []
    },
    {
      "cell_type": "code",
      "metadata": {
        "colab": {
          "base_uri": "https://localhost:8080/",
          "height": 279
        },
        "id": "IrjVIF5KfFcX",
        "outputId": "6904a6f7-cbb9-4a46-e8d0-b0116fb75db4"
      },
      "source": [
        "weights_list=[{'name': 'w',\n",
        "               'values': list_w},\n",
        "              {'name': 'b',\n",
        "               'values': list_b}]\n",
        "plot_loss_for_weights(weights_list, losses)"
      ],
      "execution_count": 13,
      "outputs": [
        {
          "output_type": "display_data",
          "data": {
            "image/png": "[encoded data removed]",
            "text/plain": [
              "<Figure size 432x288 with 2 Axes>"
            ]
          },
          "metadata": {
            "tags": [],
            "needs_background": "light"
          }
        }
      ]
    }
  ]
}